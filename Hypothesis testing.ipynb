{
 "cells": [
  {
   "cell_type": "markdown",
   "id": "15f6973d-8be9-4e71-8fe4-7c88d5d0f2da",
   "metadata": {},
   "source": [
    "# Background"
   ]
  },
  {
   "cell_type": "markdown",
   "id": "4130abb4-4c47-4408-86b3-aff25fa8a923",
   "metadata": {},
   "source": [
    "Bombay hospitality Ltd. operates a franchise model for producing exotic Norwegian dinners throughout New England. The operating cost for a franchise in a week (W) is given by the equation W = $1,000 + $5X, where X represents the number of units produced in a week. Recent feedback from restaurant owners suggests that this cost model may no longer be accurate, as their observed weekly operating costs are higher."
   ]
  },
  {
   "cell_type": "markdown",
   "id": "80b6184d-ca97-44d7-9b8d-26d1a11329f0",
   "metadata": {},
   "source": [
    "# Objective"
   ]
  },
  {
   "cell_type": "markdown",
   "id": "aa677128-9ad5-41b8-b3f4-ed5e98a47b2c",
   "metadata": {},
   "source": [
    "To investigate the restaurant owners claim about the increase in weekly operating costs using hypothesis testing."
   ]
  },
  {
   "cell_type": "markdown",
   "id": "3cccd316-eaac-418a-b5e4-17b862eac913",
   "metadata": {},
   "source": [
    "# Data"
   ]
  },
  {
   "cell_type": "markdown",
   "id": "476c6ca5-a6e0-48a7-b2b1-da93c2a56a91",
   "metadata": {},
   "source": [
    "•\tThe theoretical weekly operating cost model: W = $1,000 + $5X\r\n",
    "•\tSample of 25 restaurants with a mean weekly cost of Rs. 3,050\r\n",
    "•\tNumber of units produced in a week (X) follows a normal distribution with a mean (μ) of 600 units and a standard deviation (σ) of 25 units\r\n"
   ]
  },
  {
   "cell_type": "markdown",
   "id": "f0ce6769-5ca4-4bcd-a673-43513604b1a5",
   "metadata": {},
   "source": [
    "# Hypothesis testing"
   ]
  },
  {
   "cell_type": "markdown",
   "id": "f70fe59c-745d-4f77-96eb-537a4af89e16",
   "metadata": {},
   "source": [
    "1. Set up hypothesis statement"
   ]
  },
  {
   "cell_type": "markdown",
   "id": "c0ef1d15-1943-42a1-9eac-a5431405cf61",
   "metadata": {},
   "source": [
    "H0: The operating cost for franchise in a week is same as model suggests i.e; H0: W=1000+5X"
   ]
  },
  {
   "cell_type": "markdown",
   "id": "e256f9fb-6484-4a6d-b650-dd316c19851a",
   "metadata": {},
   "source": [
    "H1: The operating cost for franchise in a week is higher than model suggests i.e; H1: W>1000+5X"
   ]
  },
  {
   "cell_type": "markdown",
   "id": "d951c2e1-b80b-4187-b9ab-92812fa6379d",
   "metadata": {},
   "source": [
    "2. Calculate test statistic"
   ]
  },
  {
   "cell_type": "markdown",
   "id": "5fe110c5-2cb5-4a35-846f-571b2a5f38a9",
   "metadata": {},
   "source": [
    "As sample size is less than 30 and population standard deviation is unknown here we can use t-test to calculate test statistic."
   ]
  },
  {
   "cell_type": "code",
   "execution_count": 1,
   "id": "6d0a90c7-304e-4571-9cbe-7b354040437c",
   "metadata": {},
   "outputs": [],
   "source": [
    "sample_mean= 3050\n",
    "population_mean=3000  #where X=600 and put it in the equation of operating cost\n",
    "sigma=125\n",
    "n=25"
   ]
  },
  {
   "cell_type": "code",
   "execution_count": 3,
   "id": "a4ff5d0e-650a-4f04-870b-3ff896e15d52",
   "metadata": {},
   "outputs": [
    {
     "name": "stdout",
     "output_type": "stream",
     "text": [
      "t_statistic for positive one tailed test is: 2.0\n"
     ]
    }
   ],
   "source": [
    "import numpy as np\n",
    "import scipy.stats as stats\n",
    "t_statistic= (sample_mean-population_mean)/(sigma/np.sqrt(n))\n",
    "print(\"t_statistic for positive one tailed test is:\",t_statistic)"
   ]
  },
  {
   "cell_type": "markdown",
   "id": "b0d0673e-6692-4e0f-bb90-b9c3705d127a",
   "metadata": {},
   "source": [
    "# Determine critical value"
   ]
  },
  {
   "cell_type": "code",
   "execution_count": 5,
   "id": "cde9bca2-73bd-4759-b62f-ae896ab53914",
   "metadata": {},
   "outputs": [
    {
     "data": {
      "text/plain": [
       "1.7108820799094275"
      ]
     },
     "execution_count": 5,
     "metadata": {},
     "output_type": "execute_result"
    }
   ],
   "source": [
    "crit_val=stats.t.ppf(q=0.95,df=24)\n",
    "crit_val"
   ]
  },
  {
   "cell_type": "markdown",
   "id": "b5f4db28-877c-487f-a44c-489d8a89d806",
   "metadata": {},
   "source": [
    "4. Decision"
   ]
  },
  {
   "cell_type": "code",
   "execution_count": 7,
   "id": "ae678dd7-ef3b-4268-adfe-417668783166",
   "metadata": {},
   "outputs": [
    {
     "name": "stdout",
     "output_type": "stream",
     "text": [
      "H0 is rejected i.e; The operating cost of franchise in a week is higher than model suggests\n"
     ]
    }
   ],
   "source": [
    "if t_statistic<crit_val:\n",
    "    print(\"H0 is accepted i.e; The operating cost of franchise in a week is same as model suggests\")\n",
    "else:\n",
    "    print(\"H0 is rejected i.e; The operating cost of franchise in a week is higher than model suggests\")"
   ]
  },
  {
   "cell_type": "markdown",
   "id": "fa57ca97-44a8-41ad-a6e4-330ee74d71c0",
   "metadata": {},
   "source": [
    "# Conclusion"
   ]
  },
  {
   "cell_type": "markdown",
   "id": "f59ae256-9d79-467b-b115-075f4f8efc54",
   "metadata": {},
   "source": [
    "Based on the decision made by testing of hypothesis, we conclude that there is a strong evidence to support the restaurant owner's claim that the weekly operating costs are higher than the model suggests."
   ]
  }
 ],
 "metadata": {
  "kernelspec": {
   "display_name": "Python 3 (ipykernel)",
   "language": "python",
   "name": "python3"
  },
  "language_info": {
   "codemirror_mode": {
    "name": "ipython",
    "version": 3
   },
   "file_extension": ".py",
   "mimetype": "text/x-python",
   "name": "python",
   "nbconvert_exporter": "python",
   "pygments_lexer": "ipython3",
   "version": "3.12.4"
  }
 },
 "nbformat": 4,
 "nbformat_minor": 5
}
